{
  "cells": [
    {
      "cell_type": "code",
      "execution_count": 45,
      "metadata": {
        "id": "igMyGnjE9hEp"
      },
      "outputs": [],
      "source": [
        "import csv\n",
        "\n",
        "import numpy as np\n",
        "import tensorflow as tf\n",
        "from sklearn.model_selection import train_test_split\n",
        "\n",
        "RANDOM_SEED = 42"
      ]
    },
    {
      "cell_type": "markdown",
      "metadata": {
        "id": "t2HDvhIu9hEr"
      },
      "source": [
        "# Specify each path"
      ]
    },
    {
      "cell_type": "code",
      "execution_count": 46,
      "metadata": {
        "id": "9NvZP2Zn9hEy"
      },
      "outputs": [],
      "source": [
        "dataset = 'model/keypoint_classifier/keypoint.csv'\n",
        "model_save_path = 'model/keypoint_classifier/keypoint_classifier.hdf5'\n",
        "tflite_save_path = 'model/keypoint_classifier/keypoint_classifier.tflite'"
      ]
    },
    {
      "cell_type": "markdown",
      "metadata": {
        "id": "s5oMH7x19hEz"
      },
      "source": [
        "# Set number of classes"
      ]
    },
    {
      "cell_type": "code",
      "execution_count": 47,
      "metadata": {
        "id": "du4kodXL9hEz"
      },
      "outputs": [],
      "source": [
        "NUM_CLASSES = 10"
      ]
    },
    {
      "cell_type": "markdown",
      "metadata": {
        "id": "XjnL0uso9hEz"
      },
      "source": [
        "# Dataset reading"
      ]
    },
    {
      "cell_type": "code",
      "execution_count": 48,
      "metadata": {
        "id": "QT5ZqtEz9hE0"
      },
      "outputs": [],
      "source": [
        "X_dataset = np.loadtxt(dataset, delimiter=',', dtype='float32', usecols=list(range(1, (21 * 2) + 1)))"
      ]
    },
    {
      "cell_type": "code",
      "execution_count": 49,
      "metadata": {
        "id": "QmoKFsp49hE0"
      },
      "outputs": [],
      "source": [
        "y_dataset = np.loadtxt(dataset, delimiter=',', dtype='int32', usecols=(0))"
      ]
    },
    {
      "cell_type": "code",
      "execution_count": 50,
      "metadata": {
        "id": "xQU7JTZ_9hE0"
      },
      "outputs": [],
      "source": [
        "X_train, X_test, y_train, y_test = train_test_split(X_dataset, y_dataset, train_size=0.75, random_state=RANDOM_SEED)"
      ]
    },
    {
      "cell_type": "markdown",
      "metadata": {
        "id": "mxK_lETT9hE0"
      },
      "source": [
        "# Model building"
      ]
    },
    {
      "cell_type": "code",
      "execution_count": 51,
      "metadata": {
        "id": "vHBmUf1t9hE1"
      },
      "outputs": [],
      "source": [
        "model = tf.keras.models.Sequential([\n",
        "    tf.keras.layers.Input((21 * 2, )),\n",
        "    tf.keras.layers.Dropout(0.2),\n",
        "    tf.keras.layers.Dense(20, activation='relu'),\n",
        "    tf.keras.layers.Dropout(0.4),\n",
        "    tf.keras.layers.Dense(10, activation='relu'),\n",
        "    tf.keras.layers.Dense(NUM_CLASSES, activation='softmax')\n",
        "])"
      ]
    },
    {
      "cell_type": "code",
      "execution_count": 52,
      "metadata": {
        "colab": {
          "base_uri": "https://localhost:8080/"
        },
        "id": "ypqky9tc9hE1",
        "outputId": "5db082bb-30e3-4110-bf63-a1ee777ecd46"
      },
      "outputs": [
        {
          "name": "stdout",
          "output_type": "stream",
          "text": [
            "Model: \"sequential_2\"\n",
            "_________________________________________________________________\n",
            " Layer (type)                Output Shape              Param #   \n",
            "=================================================================\n",
            " dropout_4 (Dropout)         (None, 42)                0         \n",
            "                                                                 \n",
            " dense_6 (Dense)             (None, 20)                860       \n",
            "                                                                 \n",
            " dropout_5 (Dropout)         (None, 20)                0         \n",
            "                                                                 \n",
            " dense_7 (Dense)             (None, 10)                210       \n",
            "                                                                 \n",
            " dense_8 (Dense)             (None, 10)                110       \n",
            "                                                                 \n",
            "=================================================================\n",
            "Total params: 1180 (4.61 KB)\n",
            "Trainable params: 1180 (4.61 KB)\n",
            "Non-trainable params: 0 (0.00 Byte)\n",
            "_________________________________________________________________\n"
          ]
        }
      ],
      "source": [
        "model.summary()  # tf.keras.utils.plot_model(model, show_shapes=True)"
      ]
    },
    {
      "cell_type": "code",
      "execution_count": 53,
      "metadata": {
        "id": "MbMjOflQ9hE1"
      },
      "outputs": [],
      "source": [
        "# Model checkpoint callback\n",
        "cp_callback = tf.keras.callbacks.ModelCheckpoint(\n",
        "    model_save_path, verbose=1, save_weights_only=False)\n",
        "# Callback for early stopping\n",
        "es_callback = tf.keras.callbacks.EarlyStopping(patience=20, verbose=1)"
      ]
    },
    {
      "cell_type": "code",
      "execution_count": 54,
      "metadata": {
        "id": "c3Dac0M_9hE2"
      },
      "outputs": [],
      "source": [
        "# Model compilation\n",
        "model.compile(\n",
        "    optimizer='adam',\n",
        "    loss='sparse_categorical_crossentropy',\n",
        "    metrics=['accuracy']\n",
        ")"
      ]
    },
    {
      "cell_type": "markdown",
      "metadata": {
        "id": "7XI0j1Iu9hE2"
      },
      "source": [
        "# Model training"
      ]
    },
    {
      "cell_type": "code",
      "execution_count": 55,
      "metadata": {
        "colab": {
          "base_uri": "https://localhost:8080/"
        },
        "id": "WirBl-JE9hE3",
        "outputId": "71b30ca2-8294-4d9d-8aa2-800d90d399de",
        "scrolled": true
      },
      "outputs": [
        {
          "name": "stdout",
          "output_type": "stream",
          "text": [
            "Epoch 1/1000\n"
          ]
        },
        {
          "name": "stdout",
          "output_type": "stream",
          "text": [
            "43/57 [=====================>........] - ETA: 0s - loss: 2.2677 - accuracy: 0.1561\n",
            "Epoch 1: saving model to model/keypoint_classifier\\keypoint_classifier.hdf5\n",
            "57/57 [==============================] - 1s 8ms/step - loss: 2.2510 - accuracy: 0.1622 - val_loss: 2.1411 - val_accuracy: 0.2434\n",
            "Epoch 2/1000\n",
            "43/57 [=====================>........] - ETA: 0s - loss: 2.1322 - accuracy: 0.1955"
          ]
        },
        {
          "name": "stderr",
          "output_type": "stream",
          "text": [
            "c:\\Users\\Carlos Miguel\\AppData\\Local\\Programs\\Python\\Python310\\lib\\site-packages\\keras\\src\\engine\\training.py:3000: UserWarning: You are saving your model as an HDF5 file via `model.save()`. This file format is considered legacy. We recommend using instead the native Keras format, e.g. `model.save('my_model.keras')`.\n",
            "  saving_api.save_model(\n"
          ]
        },
        {
          "name": "stdout",
          "output_type": "stream",
          "text": [
            "\n",
            "Epoch 2: saving model to model/keypoint_classifier\\keypoint_classifier.hdf5\n",
            "57/57 [==============================] - 0s 4ms/step - loss: 2.1196 - accuracy: 0.1976 - val_loss: 2.0130 - val_accuracy: 0.2026\n",
            "Epoch 3/1000\n",
            "48/57 [========================>.....] - ETA: 0s - loss: 2.0227 - accuracy: 0.2100\n",
            "Epoch 3: saving model to model/keypoint_classifier\\keypoint_classifier.hdf5\n",
            "57/57 [==============================] - 0s 5ms/step - loss: 2.0185 - accuracy: 0.2081 - val_loss: 1.9020 - val_accuracy: 0.2434\n",
            "Epoch 4/1000\n",
            "39/57 [===================>..........] - ETA: 0s - loss: 1.9350 - accuracy: 0.2372\n",
            "Epoch 4: saving model to model/keypoint_classifier\\keypoint_classifier.hdf5\n",
            "57/57 [==============================] - 0s 5ms/step - loss: 1.9247 - accuracy: 0.2404 - val_loss: 1.8000 - val_accuracy: 0.2879\n",
            "Epoch 5/1000\n",
            "50/57 [=========================>....] - ETA: 0s - loss: 1.8561 - accuracy: 0.2736\n",
            "Epoch 5: saving model to model/keypoint_classifier\\keypoint_classifier.hdf5\n",
            "57/57 [==============================] - 0s 7ms/step - loss: 1.8508 - accuracy: 0.2735 - val_loss: 1.6982 - val_accuracy: 0.3258\n",
            "Epoch 6/1000\n",
            "49/57 [========================>.....] - ETA: 0s - loss: 1.7790 - accuracy: 0.2975\n",
            "Epoch 6: saving model to model/keypoint_classifier\\keypoint_classifier.hdf5\n",
            "57/57 [==============================] - 0s 6ms/step - loss: 1.7768 - accuracy: 0.2973 - val_loss: 1.5875 - val_accuracy: 0.3744\n",
            "Epoch 7/1000\n",
            "50/57 [=========================>....] - ETA: 0s - loss: 1.7232 - accuracy: 0.3134\n",
            "Epoch 7: saving model to model/keypoint_classifier\\keypoint_classifier.hdf5\n",
            "57/57 [==============================] - 0s 6ms/step - loss: 1.7166 - accuracy: 0.3167 - val_loss: 1.4925 - val_accuracy: 0.4205\n",
            "Epoch 8/1000\n",
            "57/57 [==============================] - ETA: 0s - loss: 1.6592 - accuracy: 0.3407\n",
            "Epoch 8: saving model to model/keypoint_classifier\\keypoint_classifier.hdf5\n",
            "57/57 [==============================] - 0s 6ms/step - loss: 1.6592 - accuracy: 0.3407 - val_loss: 1.4312 - val_accuracy: 0.4535\n",
            "Epoch 9/1000\n",
            "49/57 [========================>.....] - ETA: 0s - loss: 1.6199 - accuracy: 0.3498\n",
            "Epoch 9: saving model to model/keypoint_classifier\\keypoint_classifier.hdf5\n",
            "57/57 [==============================] - 0s 6ms/step - loss: 1.6152 - accuracy: 0.3484 - val_loss: 1.3807 - val_accuracy: 0.4901\n",
            "Epoch 10/1000\n",
            "48/57 [========================>.....] - ETA: 0s - loss: 1.5733 - accuracy: 0.3879\n",
            "Epoch 10: saving model to model/keypoint_classifier\\keypoint_classifier.hdf5\n",
            "57/57 [==============================] - 0s 6ms/step - loss: 1.5680 - accuracy: 0.3898 - val_loss: 1.3179 - val_accuracy: 0.5334\n",
            "Epoch 11/1000\n",
            "55/57 [===========================>..] - ETA: 0s - loss: 1.5311 - accuracy: 0.3979\n",
            "Epoch 11: saving model to model/keypoint_classifier\\keypoint_classifier.hdf5\n",
            "57/57 [==============================] - 0s 5ms/step - loss: 1.5316 - accuracy: 0.3977 - val_loss: 1.2716 - val_accuracy: 0.5717\n",
            "Epoch 12/1000\n",
            "43/57 [=====================>........] - ETA: 0s - loss: 1.5148 - accuracy: 0.4068\n",
            "Epoch 12: saving model to model/keypoint_classifier\\keypoint_classifier.hdf5\n",
            "57/57 [==============================] - 0s 5ms/step - loss: 1.5097 - accuracy: 0.4065 - val_loss: 1.2267 - val_accuracy: 0.6182\n",
            "Epoch 13/1000\n",
            "53/57 [==========================>...] - ETA: 0s - loss: 1.4818 - accuracy: 0.4142\n",
            "Epoch 13: saving model to model/keypoint_classifier\\keypoint_classifier.hdf5\n",
            "57/57 [==============================] - 0s 5ms/step - loss: 1.4811 - accuracy: 0.4148 - val_loss: 1.1887 - val_accuracy: 0.6495\n",
            "Epoch 14/1000\n",
            "51/57 [=========================>....] - ETA: 0s - loss: 1.4499 - accuracy: 0.4372\n",
            "Epoch 14: saving model to model/keypoint_classifier\\keypoint_classifier.hdf5\n",
            "57/57 [==============================] - 0s 5ms/step - loss: 1.4462 - accuracy: 0.4402 - val_loss: 1.1607 - val_accuracy: 0.6330\n",
            "Epoch 15/1000\n",
            "52/57 [==========================>...] - ETA: 0s - loss: 1.4336 - accuracy: 0.4407\n",
            "Epoch 15: saving model to model/keypoint_classifier\\keypoint_classifier.hdf5\n",
            "57/57 [==============================] - 0s 5ms/step - loss: 1.4407 - accuracy: 0.4383 - val_loss: 1.1240 - val_accuracy: 0.6734\n",
            "Epoch 16/1000\n",
            "53/57 [==========================>...] - ETA: 0s - loss: 1.4110 - accuracy: 0.4543\n",
            "Epoch 16: saving model to model/keypoint_classifier\\keypoint_classifier.hdf5\n",
            "57/57 [==============================] - 0s 7ms/step - loss: 1.4116 - accuracy: 0.4536 - val_loss: 1.0989 - val_accuracy: 0.6623\n",
            "Epoch 17/1000\n",
            "52/57 [==========================>...] - ETA: 0s - loss: 1.3863 - accuracy: 0.4584\n",
            "Epoch 17: saving model to model/keypoint_classifier\\keypoint_classifier.hdf5\n",
            "57/57 [==============================] - 0s 5ms/step - loss: 1.3841 - accuracy: 0.4615 - val_loss: 1.0673 - val_accuracy: 0.6755\n",
            "Epoch 18/1000\n",
            "40/57 [====================>.........] - ETA: 0s - loss: 1.3804 - accuracy: 0.4643\n",
            "Epoch 18: saving model to model/keypoint_classifier\\keypoint_classifier.hdf5\n",
            "57/57 [==============================] - 0s 5ms/step - loss: 1.3693 - accuracy: 0.4715 - val_loss: 1.0422 - val_accuracy: 0.6870\n",
            "Epoch 19/1000\n",
            "57/57 [==============================] - ETA: 0s - loss: 1.3783 - accuracy: 0.4628\n",
            "Epoch 19: saving model to model/keypoint_classifier\\keypoint_classifier.hdf5\n",
            "57/57 [==============================] - 0s 5ms/step - loss: 1.3783 - accuracy: 0.4628 - val_loss: 1.0212 - val_accuracy: 0.6639\n",
            "Epoch 20/1000\n",
            "57/57 [==============================] - ETA: 0s - loss: 1.3612 - accuracy: 0.4811\n",
            "Epoch 20: saving model to model/keypoint_classifier\\keypoint_classifier.hdf5\n",
            "57/57 [==============================] - 0s 5ms/step - loss: 1.3612 - accuracy: 0.4811 - val_loss: 1.0055 - val_accuracy: 0.6804\n",
            "Epoch 21/1000\n",
            "53/57 [==========================>...] - ETA: 0s - loss: 1.3362 - accuracy: 0.4801\n",
            "Epoch 21: saving model to model/keypoint_classifier\\keypoint_classifier.hdf5\n",
            "57/57 [==============================] - 0s 5ms/step - loss: 1.3390 - accuracy: 0.4769 - val_loss: 0.9840 - val_accuracy: 0.6956\n",
            "Epoch 22/1000\n",
            "56/57 [============================>.] - ETA: 0s - loss: 1.3257 - accuracy: 0.4854\n",
            "Epoch 22: saving model to model/keypoint_classifier\\keypoint_classifier.hdf5\n",
            "57/57 [==============================] - 0s 5ms/step - loss: 1.3259 - accuracy: 0.4851 - val_loss: 0.9626 - val_accuracy: 0.7175\n",
            "Epoch 23/1000\n",
            "57/57 [==============================] - ETA: 0s - loss: 1.3065 - accuracy: 0.4968\n",
            "Epoch 23: saving model to model/keypoint_classifier\\keypoint_classifier.hdf5\n",
            "57/57 [==============================] - 0s 5ms/step - loss: 1.3065 - accuracy: 0.4968 - val_loss: 0.9383 - val_accuracy: 0.7175\n",
            "Epoch 24/1000\n",
            "57/57 [==============================] - ETA: 0s - loss: 1.3037 - accuracy: 0.4965\n",
            "Epoch 24: saving model to model/keypoint_classifier\\keypoint_classifier.hdf5\n",
            "57/57 [==============================] - 0s 5ms/step - loss: 1.3037 - accuracy: 0.4965 - val_loss: 0.9313 - val_accuracy: 0.7068\n",
            "Epoch 25/1000\n",
            "51/57 [=========================>....] - ETA: 0s - loss: 1.2869 - accuracy: 0.5017\n",
            "Epoch 25: saving model to model/keypoint_classifier\\keypoint_classifier.hdf5\n",
            "57/57 [==============================] - 0s 7ms/step - loss: 1.2838 - accuracy: 0.5034 - val_loss: 0.9141 - val_accuracy: 0.7166\n",
            "Epoch 26/1000\n",
            "56/57 [============================>.] - ETA: 0s - loss: 1.2853 - accuracy: 0.5106\n",
            "Epoch 26: saving model to model/keypoint_classifier\\keypoint_classifier.hdf5\n",
            "57/57 [==============================] - 0s 5ms/step - loss: 1.2852 - accuracy: 0.5104 - val_loss: 0.8919 - val_accuracy: 0.7294\n",
            "Epoch 27/1000\n",
            "52/57 [==========================>...] - ETA: 0s - loss: 1.2783 - accuracy: 0.5095\n",
            "Epoch 27: saving model to model/keypoint_classifier\\keypoint_classifier.hdf5\n",
            "57/57 [==============================] - 0s 5ms/step - loss: 1.2760 - accuracy: 0.5111 - val_loss: 0.8799 - val_accuracy: 0.7306\n",
            "Epoch 28/1000\n",
            "48/57 [========================>.....] - ETA: 0s - loss: 1.2615 - accuracy: 0.5212\n",
            "Epoch 28: saving model to model/keypoint_classifier\\keypoint_classifier.hdf5\n",
            "57/57 [==============================] - 0s 5ms/step - loss: 1.2719 - accuracy: 0.5185 - val_loss: 0.8669 - val_accuracy: 0.7327\n",
            "Epoch 29/1000\n",
            "57/57 [==============================] - ETA: 0s - loss: 1.2625 - accuracy: 0.5234\n",
            "Epoch 29: saving model to model/keypoint_classifier\\keypoint_classifier.hdf5\n",
            "57/57 [==============================] - 0s 5ms/step - loss: 1.2625 - accuracy: 0.5234 - val_loss: 0.8532 - val_accuracy: 0.7426\n",
            "Epoch 30/1000\n",
            "51/57 [=========================>....] - ETA: 0s - loss: 1.2438 - accuracy: 0.5262\n",
            "Epoch 30: saving model to model/keypoint_classifier\\keypoint_classifier.hdf5\n",
            "57/57 [==============================] - 0s 5ms/step - loss: 1.2438 - accuracy: 0.5229 - val_loss: 0.8390 - val_accuracy: 0.7397\n",
            "Epoch 31/1000\n",
            "50/57 [=========================>....] - ETA: 0s - loss: 1.2421 - accuracy: 0.5142\n",
            "Epoch 31: saving model to model/keypoint_classifier\\keypoint_classifier.hdf5\n",
            "57/57 [==============================] - 0s 5ms/step - loss: 1.2419 - accuracy: 0.5168 - val_loss: 0.8293 - val_accuracy: 0.7488\n",
            "Epoch 32/1000\n",
            "54/57 [===========================>..] - ETA: 0s - loss: 1.2434 - accuracy: 0.5285\n",
            "Epoch 32: saving model to model/keypoint_classifier\\keypoint_classifier.hdf5\n",
            "57/57 [==============================] - 0s 5ms/step - loss: 1.2453 - accuracy: 0.5266 - val_loss: 0.8239 - val_accuracy: 0.7570\n",
            "Epoch 33/1000\n",
            "53/57 [==========================>...] - ETA: 0s - loss: 1.2443 - accuracy: 0.5205\n",
            "Epoch 33: saving model to model/keypoint_classifier\\keypoint_classifier.hdf5\n",
            "57/57 [==============================] - 0s 5ms/step - loss: 1.2415 - accuracy: 0.5225 - val_loss: 0.8103 - val_accuracy: 0.7484\n",
            "Epoch 34/1000\n",
            "56/57 [============================>.] - ETA: 0s - loss: 1.2198 - accuracy: 0.5361\n",
            "Epoch 34: saving model to model/keypoint_classifier\\keypoint_classifier.hdf5\n",
            "57/57 [==============================] - 0s 5ms/step - loss: 1.2203 - accuracy: 0.5359 - val_loss: 0.8024 - val_accuracy: 0.7471\n",
            "Epoch 35/1000\n",
            "44/57 [======================>.......] - ETA: 0s - loss: 1.2098 - accuracy: 0.5305\n",
            "Epoch 35: saving model to model/keypoint_classifier\\keypoint_classifier.hdf5\n",
            "57/57 [==============================] - 0s 6ms/step - loss: 1.2059 - accuracy: 0.5317 - val_loss: 0.7929 - val_accuracy: 0.7566\n",
            "Epoch 36/1000\n",
            "56/57 [============================>.] - ETA: 0s - loss: 1.1942 - accuracy: 0.5465\n",
            "Epoch 36: saving model to model/keypoint_classifier\\keypoint_classifier.hdf5\n",
            "57/57 [==============================] - 0s 5ms/step - loss: 1.1950 - accuracy: 0.5455 - val_loss: 0.7844 - val_accuracy: 0.7595\n",
            "Epoch 37/1000\n",
            "35/57 [=================>............] - ETA: 0s - loss: 1.2176 - accuracy: 0.5306\n",
            "Epoch 37: saving model to model/keypoint_classifier\\keypoint_classifier.hdf5\n",
            "57/57 [==============================] - 0s 5ms/step - loss: 1.2063 - accuracy: 0.5384 - val_loss: 0.7726 - val_accuracy: 0.7586\n",
            "Epoch 38/1000\n",
            "53/57 [==========================>...] - ETA: 0s - loss: 1.1933 - accuracy: 0.5510\n",
            "Epoch 38: saving model to model/keypoint_classifier\\keypoint_classifier.hdf5\n",
            "57/57 [==============================] - 0s 5ms/step - loss: 1.1909 - accuracy: 0.5529 - val_loss: 0.7714 - val_accuracy: 0.7525\n",
            "Epoch 39/1000\n",
            "42/57 [=====================>........] - ETA: 0s - loss: 1.1975 - accuracy: 0.5422\n",
            "Epoch 39: saving model to model/keypoint_classifier\\keypoint_classifier.hdf5\n",
            "57/57 [==============================] - 0s 5ms/step - loss: 1.1885 - accuracy: 0.5455 - val_loss: 0.7708 - val_accuracy: 0.7611\n",
            "Epoch 40/1000\n",
            "53/57 [==========================>...] - ETA: 0s - loss: 1.1931 - accuracy: 0.5510\n",
            "Epoch 40: saving model to model/keypoint_classifier\\keypoint_classifier.hdf5\n",
            "57/57 [==============================] - 0s 5ms/step - loss: 1.1924 - accuracy: 0.5499 - val_loss: 0.7637 - val_accuracy: 0.7566\n",
            "Epoch 41/1000\n",
            "53/57 [==========================>...] - ETA: 0s - loss: 1.2037 - accuracy: 0.5392\n",
            "Epoch 41: saving model to model/keypoint_classifier\\keypoint_classifier.hdf5\n",
            "57/57 [==============================] - 0s 5ms/step - loss: 1.2038 - accuracy: 0.5402 - val_loss: 0.7625 - val_accuracy: 0.7698\n",
            "Epoch 42/1000\n",
            "38/57 [===================>..........] - ETA: 0s - loss: 1.1751 - accuracy: 0.5512\n",
            "Epoch 42: saving model to model/keypoint_classifier\\keypoint_classifier.hdf5\n",
            "57/57 [==============================] - 0s 5ms/step - loss: 1.1771 - accuracy: 0.5499 - val_loss: 0.7547 - val_accuracy: 0.7648\n",
            "Epoch 43/1000\n",
            "41/57 [====================>.........] - ETA: 0s - loss: 1.1832 - accuracy: 0.5486\n",
            "Epoch 43: saving model to model/keypoint_classifier\\keypoint_classifier.hdf5\n",
            "57/57 [==============================] - 0s 5ms/step - loss: 1.1752 - accuracy: 0.5501 - val_loss: 0.7474 - val_accuracy: 0.7640\n",
            "Epoch 44/1000\n",
            "56/57 [============================>.] - ETA: 0s - loss: 1.1720 - accuracy: 0.5579\n",
            "Epoch 44: saving model to model/keypoint_classifier\\keypoint_classifier.hdf5\n",
            "57/57 [==============================] - 0s 5ms/step - loss: 1.1738 - accuracy: 0.5576 - val_loss: 0.7433 - val_accuracy: 0.7834\n",
            "Epoch 45/1000\n",
            "43/57 [=====================>........] - ETA: 0s - loss: 1.1526 - accuracy: 0.5640\n",
            "Epoch 45: saving model to model/keypoint_classifier\\keypoint_classifier.hdf5\n",
            "57/57 [==============================] - 0s 6ms/step - loss: 1.1573 - accuracy: 0.5621 - val_loss: 0.7365 - val_accuracy: 0.7595\n",
            "Epoch 46/1000\n",
            "39/57 [===================>..........] - ETA: 0s - loss: 1.1599 - accuracy: 0.5519\n",
            "Epoch 46: saving model to model/keypoint_classifier\\keypoint_classifier.hdf5\n",
            "57/57 [==============================] - 0s 5ms/step - loss: 1.1669 - accuracy: 0.5507 - val_loss: 0.7242 - val_accuracy: 0.7727\n",
            "Epoch 47/1000\n",
            "37/57 [==================>...........] - ETA: 0s - loss: 1.1638 - accuracy: 0.5551\n",
            "Epoch 47: saving model to model/keypoint_classifier\\keypoint_classifier.hdf5\n",
            "57/57 [==============================] - 0s 5ms/step - loss: 1.1654 - accuracy: 0.5546 - val_loss: 0.7352 - val_accuracy: 0.7747\n",
            "Epoch 48/1000\n",
            "56/57 [============================>.] - ETA: 0s - loss: 1.1510 - accuracy: 0.5657\n",
            "Epoch 48: saving model to model/keypoint_classifier\\keypoint_classifier.hdf5\n",
            "57/57 [==============================] - 0s 5ms/step - loss: 1.1503 - accuracy: 0.5659 - val_loss: 0.7264 - val_accuracy: 0.7887\n",
            "Epoch 49/1000\n",
            "57/57 [==============================] - ETA: 0s - loss: 1.1582 - accuracy: 0.5542\n",
            "Epoch 49: saving model to model/keypoint_classifier\\keypoint_classifier.hdf5\n",
            "57/57 [==============================] - 0s 5ms/step - loss: 1.1582 - accuracy: 0.5542 - val_loss: 0.7233 - val_accuracy: 0.7661\n",
            "Epoch 50/1000\n",
            "39/57 [===================>..........] - ETA: 0s - loss: 1.1550 - accuracy: 0.5453\n",
            "Epoch 50: saving model to model/keypoint_classifier\\keypoint_classifier.hdf5\n",
            "57/57 [==============================] - 0s 5ms/step - loss: 1.1544 - accuracy: 0.5491 - val_loss: 0.7259 - val_accuracy: 0.7714\n",
            "Epoch 51/1000\n",
            "38/57 [===================>..........] - ETA: 0s - loss: 1.1529 - accuracy: 0.5582\n",
            "Epoch 51: saving model to model/keypoint_classifier\\keypoint_classifier.hdf5\n",
            "57/57 [==============================] - 0s 5ms/step - loss: 1.1548 - accuracy: 0.5551 - val_loss: 0.7158 - val_accuracy: 0.7990\n",
            "Epoch 52/1000\n",
            "44/57 [======================>.......] - ETA: 0s - loss: 1.1397 - accuracy: 0.5579\n",
            "Epoch 52: saving model to model/keypoint_classifier\\keypoint_classifier.hdf5\n",
            "57/57 [==============================] - 0s 5ms/step - loss: 1.1398 - accuracy: 0.5605 - val_loss: 0.7124 - val_accuracy: 0.7780\n",
            "Epoch 53/1000\n",
            "57/57 [==============================] - ETA: 0s - loss: 1.1492 - accuracy: 0.5679\n",
            "Epoch 53: saving model to model/keypoint_classifier\\keypoint_classifier.hdf5\n",
            "57/57 [==============================] - 0s 6ms/step - loss: 1.1492 - accuracy: 0.5679 - val_loss: 0.7193 - val_accuracy: 0.7895\n",
            "Epoch 54/1000\n",
            "56/57 [============================>.] - ETA: 0s - loss: 1.1389 - accuracy: 0.5598\n",
            "Epoch 54: saving model to model/keypoint_classifier\\keypoint_classifier.hdf5\n",
            "57/57 [==============================] - 0s 5ms/step - loss: 1.1401 - accuracy: 0.5594 - val_loss: 0.7126 - val_accuracy: 0.7842\n",
            "Epoch 55/1000\n",
            "55/57 [===========================>..] - ETA: 0s - loss: 1.1395 - accuracy: 0.5652\n",
            "Epoch 55: saving model to model/keypoint_classifier\\keypoint_classifier.hdf5\n",
            "57/57 [==============================] - 0s 5ms/step - loss: 1.1385 - accuracy: 0.5663 - val_loss: 0.7122 - val_accuracy: 0.7768\n",
            "Epoch 56/1000\n",
            "53/57 [==========================>...] - ETA: 0s - loss: 1.1410 - accuracy: 0.5640\n",
            "Epoch 56: saving model to model/keypoint_classifier\\keypoint_classifier.hdf5\n",
            "57/57 [==============================] - 0s 5ms/step - loss: 1.1415 - accuracy: 0.5649 - val_loss: 0.7095 - val_accuracy: 0.7747\n",
            "Epoch 57/1000\n",
            "54/57 [===========================>..] - ETA: 0s - loss: 1.1228 - accuracy: 0.5693\n",
            "Epoch 57: saving model to model/keypoint_classifier\\keypoint_classifier.hdf5\n",
            "57/57 [==============================] - 0s 5ms/step - loss: 1.1251 - accuracy: 0.5687 - val_loss: 0.6977 - val_accuracy: 0.7854\n",
            "Epoch 58/1000\n",
            "44/57 [======================>.......] - ETA: 0s - loss: 1.1494 - accuracy: 0.5618\n",
            "Epoch 58: saving model to model/keypoint_classifier\\keypoint_classifier.hdf5\n",
            "57/57 [==============================] - 0s 5ms/step - loss: 1.1464 - accuracy: 0.5630 - val_loss: 0.7034 - val_accuracy: 0.8031\n",
            "Epoch 59/1000\n",
            "57/57 [==============================] - ETA: 0s - loss: 1.1239 - accuracy: 0.5697\n",
            "Epoch 59: saving model to model/keypoint_classifier\\keypoint_classifier.hdf5\n",
            "57/57 [==============================] - 0s 5ms/step - loss: 1.1239 - accuracy: 0.5697 - val_loss: 0.6959 - val_accuracy: 0.7834\n",
            "Epoch 60/1000\n",
            "38/57 [===================>..........] - ETA: 0s - loss: 1.1161 - accuracy: 0.5767\n",
            "Epoch 60: saving model to model/keypoint_classifier\\keypoint_classifier.hdf5\n",
            "57/57 [==============================] - 0s 5ms/step - loss: 1.1185 - accuracy: 0.5756 - val_loss: 0.6978 - val_accuracy: 0.8023\n",
            "Epoch 61/1000\n",
            "40/57 [====================>.........] - ETA: 0s - loss: 1.1378 - accuracy: 0.5631\n",
            "Epoch 61: saving model to model/keypoint_classifier\\keypoint_classifier.hdf5\n",
            "57/57 [==============================] - 0s 5ms/step - loss: 1.1329 - accuracy: 0.5627 - val_loss: 0.6919 - val_accuracy: 0.8002\n",
            "Epoch 62/1000\n",
            "51/57 [=========================>....] - ETA: 0s - loss: 1.1248 - accuracy: 0.5646\n",
            "Epoch 62: saving model to model/keypoint_classifier\\keypoint_classifier.hdf5\n",
            "57/57 [==============================] - 0s 5ms/step - loss: 1.1275 - accuracy: 0.5632 - val_loss: 0.6959 - val_accuracy: 0.7932\n",
            "Epoch 63/1000\n",
            "57/57 [==============================] - ETA: 0s - loss: 1.1155 - accuracy: 0.5693\n",
            "Epoch 63: saving model to model/keypoint_classifier\\keypoint_classifier.hdf5\n",
            "57/57 [==============================] - 0s 5ms/step - loss: 1.1155 - accuracy: 0.5693 - val_loss: 0.6888 - val_accuracy: 0.7895\n",
            "Epoch 64/1000\n",
            "41/57 [====================>.........] - ETA: 0s - loss: 1.1229 - accuracy: 0.5663\n",
            "Epoch 64: saving model to model/keypoint_classifier\\keypoint_classifier.hdf5\n",
            "57/57 [==============================] - 0s 4ms/step - loss: 1.1243 - accuracy: 0.5667 - val_loss: 0.6908 - val_accuracy: 0.7797\n",
            "Epoch 65/1000\n",
            "56/57 [============================>.] - ETA: 0s - loss: 1.1042 - accuracy: 0.5830\n",
            "Epoch 65: saving model to model/keypoint_classifier\\keypoint_classifier.hdf5\n",
            "57/57 [==============================] - 0s 5ms/step - loss: 1.1041 - accuracy: 0.5834 - val_loss: 0.6814 - val_accuracy: 0.7941\n",
            "Epoch 66/1000\n",
            "40/57 [====================>.........] - ETA: 0s - loss: 1.1116 - accuracy: 0.5785\n",
            "Epoch 66: saving model to model/keypoint_classifier\\keypoint_classifier.hdf5\n",
            "57/57 [==============================] - 0s 4ms/step - loss: 1.1191 - accuracy: 0.5760 - val_loss: 0.6784 - val_accuracy: 0.7912\n",
            "Epoch 67/1000\n",
            "40/57 [====================>.........] - ETA: 0s - loss: 1.1004 - accuracy: 0.5814\n",
            "Epoch 67: saving model to model/keypoint_classifier\\keypoint_classifier.hdf5\n",
            "57/57 [==============================] - 0s 4ms/step - loss: 1.1142 - accuracy: 0.5763 - val_loss: 0.6819 - val_accuracy: 0.8044\n",
            "Epoch 68/1000\n",
            "42/57 [=====================>........] - ETA: 0s - loss: 1.1168 - accuracy: 0.5765\n",
            "Epoch 68: saving model to model/keypoint_classifier\\keypoint_classifier.hdf5\n",
            "57/57 [==============================] - 0s 4ms/step - loss: 1.1258 - accuracy: 0.5740 - val_loss: 0.6771 - val_accuracy: 0.8019\n",
            "Epoch 69/1000\n",
            "39/57 [===================>..........] - ETA: 0s - loss: 1.1071 - accuracy: 0.5839\n",
            "Epoch 69: saving model to model/keypoint_classifier\\keypoint_classifier.hdf5\n",
            "57/57 [==============================] - 0s 5ms/step - loss: 1.1135 - accuracy: 0.5807 - val_loss: 0.6863 - val_accuracy: 0.7928\n",
            "Epoch 70/1000\n",
            "39/57 [===================>..........] - ETA: 0s - loss: 1.0966 - accuracy: 0.5821\n",
            "Epoch 70: saving model to model/keypoint_classifier\\keypoint_classifier.hdf5\n",
            "57/57 [==============================] - 0s 5ms/step - loss: 1.1014 - accuracy: 0.5812 - val_loss: 0.6813 - val_accuracy: 0.7953\n",
            "Epoch 71/1000\n",
            "40/57 [====================>.........] - ETA: 0s - loss: 1.1067 - accuracy: 0.5795\n",
            "Epoch 71: saving model to model/keypoint_classifier\\keypoint_classifier.hdf5\n",
            "57/57 [==============================] - 0s 4ms/step - loss: 1.1117 - accuracy: 0.5788 - val_loss: 0.6760 - val_accuracy: 0.8027\n",
            "Epoch 72/1000\n",
            "42/57 [=====================>........] - ETA: 0s - loss: 1.1172 - accuracy: 0.5772\n",
            "Epoch 72: saving model to model/keypoint_classifier\\keypoint_classifier.hdf5\n",
            "57/57 [==============================] - 0s 4ms/step - loss: 1.1081 - accuracy: 0.5818 - val_loss: 0.6726 - val_accuracy: 0.7776\n",
            "Epoch 73/1000\n",
            "42/57 [=====================>........] - ETA: 0s - loss: 1.0936 - accuracy: 0.5765\n",
            "Epoch 73: saving model to model/keypoint_classifier\\keypoint_classifier.hdf5\n",
            "57/57 [==============================] - 0s 4ms/step - loss: 1.1016 - accuracy: 0.5771 - val_loss: 0.6782 - val_accuracy: 0.8060\n",
            "Epoch 74/1000\n",
            "46/57 [=======================>......] - ETA: 0s - loss: 1.0927 - accuracy: 0.5791\n",
            "Epoch 74: saving model to model/keypoint_classifier\\keypoint_classifier.hdf5\n",
            "57/57 [==============================] - 0s 5ms/step - loss: 1.1005 - accuracy: 0.5812 - val_loss: 0.6729 - val_accuracy: 0.7821\n",
            "Epoch 75/1000\n",
            "41/57 [====================>.........] - ETA: 0s - loss: 1.0998 - accuracy: 0.5823\n",
            "Epoch 75: saving model to model/keypoint_classifier\\keypoint_classifier.hdf5\n",
            "57/57 [==============================] - 0s 4ms/step - loss: 1.1019 - accuracy: 0.5781 - val_loss: 0.6692 - val_accuracy: 0.7829\n",
            "Epoch 76/1000\n",
            "45/57 [======================>.......] - ETA: 0s - loss: 1.1002 - accuracy: 0.5776\n",
            "Epoch 76: saving model to model/keypoint_classifier\\keypoint_classifier.hdf5\n",
            "57/57 [==============================] - 0s 4ms/step - loss: 1.1010 - accuracy: 0.5793 - val_loss: 0.6681 - val_accuracy: 0.7974\n",
            "Epoch 77/1000\n",
            "57/57 [==============================] - ETA: 0s - loss: 1.1050 - accuracy: 0.5785\n",
            "Epoch 77: saving model to model/keypoint_classifier\\keypoint_classifier.hdf5\n",
            "57/57 [==============================] - 0s 6ms/step - loss: 1.1050 - accuracy: 0.5785 - val_loss: 0.6730 - val_accuracy: 0.7813\n",
            "Epoch 78/1000\n",
            "44/57 [======================>.......] - ETA: 0s - loss: 1.1124 - accuracy: 0.5795\n",
            "Epoch 78: saving model to model/keypoint_classifier\\keypoint_classifier.hdf5\n",
            "57/57 [==============================] - 0s 5ms/step - loss: 1.1092 - accuracy: 0.5784 - val_loss: 0.6680 - val_accuracy: 0.7883\n",
            "Epoch 79/1000\n",
            "37/57 [==================>...........] - ETA: 0s - loss: 1.0852 - accuracy: 0.5851\n",
            "Epoch 79: saving model to model/keypoint_classifier\\keypoint_classifier.hdf5\n",
            "57/57 [==============================] - 0s 5ms/step - loss: 1.0892 - accuracy: 0.5840 - val_loss: 0.6658 - val_accuracy: 0.7908\n",
            "Epoch 80/1000\n",
            "43/57 [=====================>........] - ETA: 0s - loss: 1.0861 - accuracy: 0.5868\n",
            "Epoch 80: saving model to model/keypoint_classifier\\keypoint_classifier.hdf5\n",
            "57/57 [==============================] - 0s 5ms/step - loss: 1.0824 - accuracy: 0.5836 - val_loss: 0.6659 - val_accuracy: 0.7887\n",
            "Epoch 81/1000\n",
            "51/57 [=========================>....] - ETA: 0s - loss: 1.1059 - accuracy: 0.5847\n",
            "Epoch 81: saving model to model/keypoint_classifier\\keypoint_classifier.hdf5\n",
            "57/57 [==============================] - 0s 6ms/step - loss: 1.1028 - accuracy: 0.5855 - val_loss: 0.6668 - val_accuracy: 0.7970\n",
            "Epoch 82/1000\n",
            "49/57 [========================>.....] - ETA: 0s - loss: 1.0957 - accuracy: 0.5848\n",
            "Epoch 82: saving model to model/keypoint_classifier\\keypoint_classifier.hdf5\n",
            "57/57 [==============================] - 0s 5ms/step - loss: 1.0982 - accuracy: 0.5856 - val_loss: 0.6680 - val_accuracy: 0.7978\n",
            "Epoch 83/1000\n",
            "38/57 [===================>..........] - ETA: 0s - loss: 1.0974 - accuracy: 0.5814\n",
            "Epoch 83: saving model to model/keypoint_classifier\\keypoint_classifier.hdf5\n",
            "57/57 [==============================] - 0s 5ms/step - loss: 1.0897 - accuracy: 0.5860 - val_loss: 0.6641 - val_accuracy: 0.8019\n",
            "Epoch 84/1000\n",
            "57/57 [==============================] - ETA: 0s - loss: 1.0875 - accuracy: 0.5779\n",
            "Epoch 84: saving model to model/keypoint_classifier\\keypoint_classifier.hdf5\n",
            "57/57 [==============================] - 0s 6ms/step - loss: 1.0875 - accuracy: 0.5779 - val_loss: 0.6620 - val_accuracy: 0.7941\n",
            "Epoch 85/1000\n",
            "53/57 [==========================>...] - ETA: 0s - loss: 1.0767 - accuracy: 0.5938\n",
            "Epoch 85: saving model to model/keypoint_classifier\\keypoint_classifier.hdf5\n",
            "57/57 [==============================] - 0s 7ms/step - loss: 1.0781 - accuracy: 0.5932 - val_loss: 0.6631 - val_accuracy: 0.7862\n",
            "Epoch 86/1000\n",
            "45/57 [======================>.......] - ETA: 0s - loss: 1.0831 - accuracy: 0.5828\n",
            "Epoch 86: saving model to model/keypoint_classifier\\keypoint_classifier.hdf5\n",
            "57/57 [==============================] - 0s 6ms/step - loss: 1.0840 - accuracy: 0.5826 - val_loss: 0.6620 - val_accuracy: 0.7854\n",
            "Epoch 87/1000\n",
            "46/57 [=======================>......] - ETA: 0s - loss: 1.0962 - accuracy: 0.5880\n",
            "Epoch 87: saving model to model/keypoint_classifier\\keypoint_classifier.hdf5\n",
            "57/57 [==============================] - 0s 6ms/step - loss: 1.0935 - accuracy: 0.5856 - val_loss: 0.6565 - val_accuracy: 0.7986\n",
            "Epoch 88/1000\n",
            "43/57 [=====================>........] - ETA: 0s - loss: 1.0864 - accuracy: 0.5872\n",
            "Epoch 88: saving model to model/keypoint_classifier\\keypoint_classifier.hdf5\n",
            "57/57 [==============================] - 0s 5ms/step - loss: 1.0869 - accuracy: 0.5852 - val_loss: 0.6589 - val_accuracy: 0.8023\n",
            "Epoch 89/1000\n",
            "39/57 [===================>..........] - ETA: 0s - loss: 1.0889 - accuracy: 0.5881\n",
            "Epoch 89: saving model to model/keypoint_classifier\\keypoint_classifier.hdf5\n",
            "57/57 [==============================] - 0s 5ms/step - loss: 1.0878 - accuracy: 0.5893 - val_loss: 0.6648 - val_accuracy: 0.7887\n",
            "Epoch 90/1000\n",
            "57/57 [==============================] - ETA: 0s - loss: 1.1023 - accuracy: 0.5767\n",
            "Epoch 90: saving model to model/keypoint_classifier\\keypoint_classifier.hdf5\n",
            "57/57 [==============================] - 0s 5ms/step - loss: 1.1023 - accuracy: 0.5767 - val_loss: 0.6566 - val_accuracy: 0.7957\n",
            "Epoch 91/1000\n",
            "41/57 [====================>.........] - ETA: 0s - loss: 1.1012 - accuracy: 0.5781\n",
            "Epoch 91: saving model to model/keypoint_classifier\\keypoint_classifier.hdf5\n",
            "57/57 [==============================] - 0s 4ms/step - loss: 1.0934 - accuracy: 0.5793 - val_loss: 0.6630 - val_accuracy: 0.7978\n",
            "Epoch 92/1000\n",
            "38/57 [===================>..........] - ETA: 0s - loss: 1.1138 - accuracy: 0.5705\n",
            "Epoch 92: saving model to model/keypoint_classifier\\keypoint_classifier.hdf5\n",
            "57/57 [==============================] - 0s 6ms/step - loss: 1.1031 - accuracy: 0.5726 - val_loss: 0.6630 - val_accuracy: 0.7895\n",
            "Epoch 93/1000\n",
            "37/57 [==================>...........] - ETA: 0s - loss: 1.0670 - accuracy: 0.5902\n",
            "Epoch 93: saving model to model/keypoint_classifier\\keypoint_classifier.hdf5\n",
            "57/57 [==============================] - 0s 5ms/step - loss: 1.0763 - accuracy: 0.5865 - val_loss: 0.6552 - val_accuracy: 0.8056\n",
            "Epoch 94/1000\n",
            "57/57 [==============================] - ETA: 0s - loss: 1.0752 - accuracy: 0.5840\n",
            "Epoch 94: saving model to model/keypoint_classifier\\keypoint_classifier.hdf5\n",
            "57/57 [==============================] - 0s 5ms/step - loss: 1.0752 - accuracy: 0.5840 - val_loss: 0.6637 - val_accuracy: 0.7937\n",
            "Epoch 95/1000\n",
            "43/57 [=====================>........] - ETA: 0s - loss: 1.0933 - accuracy: 0.5783\n",
            "Epoch 95: saving model to model/keypoint_classifier\\keypoint_classifier.hdf5\n",
            "57/57 [==============================] - 0s 4ms/step - loss: 1.0936 - accuracy: 0.5766 - val_loss: 0.6586 - val_accuracy: 0.8035\n",
            "Epoch 96/1000\n",
            "39/57 [===================>..........] - ETA: 0s - loss: 1.0946 - accuracy: 0.5803\n",
            "Epoch 96: saving model to model/keypoint_classifier\\keypoint_classifier.hdf5\n",
            "57/57 [==============================] - 0s 4ms/step - loss: 1.0789 - accuracy: 0.5838 - val_loss: 0.6661 - val_accuracy: 0.7879\n",
            "Epoch 97/1000\n",
            "57/57 [==============================] - ETA: 0s - loss: 1.0769 - accuracy: 0.5935\n",
            "Epoch 97: saving model to model/keypoint_classifier\\keypoint_classifier.hdf5\n",
            "57/57 [==============================] - 0s 5ms/step - loss: 1.0769 - accuracy: 0.5935 - val_loss: 0.6559 - val_accuracy: 0.7949\n",
            "Epoch 98/1000\n",
            "43/57 [=====================>........] - ETA: 0s - loss: 1.0445 - accuracy: 0.5981\n",
            "Epoch 98: saving model to model/keypoint_classifier\\keypoint_classifier.hdf5\n",
            "57/57 [==============================] - 0s 4ms/step - loss: 1.0502 - accuracy: 0.5988 - val_loss: 0.6482 - val_accuracy: 0.8044\n",
            "Epoch 99/1000\n",
            "40/57 [====================>.........] - ETA: 0s - loss: 1.0898 - accuracy: 0.5783\n",
            "Epoch 99: saving model to model/keypoint_classifier\\keypoint_classifier.hdf5\n",
            "57/57 [==============================] - 0s 5ms/step - loss: 1.0912 - accuracy: 0.5814 - val_loss: 0.6515 - val_accuracy: 0.7978\n",
            "Epoch 100/1000\n",
            "42/57 [=====================>........] - ETA: 0s - loss: 1.0723 - accuracy: 0.5885\n",
            "Epoch 100: saving model to model/keypoint_classifier\\keypoint_classifier.hdf5\n",
            "57/57 [==============================] - 0s 4ms/step - loss: 1.0744 - accuracy: 0.5889 - val_loss: 0.6517 - val_accuracy: 0.8064\n",
            "Epoch 101/1000\n",
            "41/57 [====================>.........] - ETA: 0s - loss: 1.0787 - accuracy: 0.5947\n",
            "Epoch 101: saving model to model/keypoint_classifier\\keypoint_classifier.hdf5\n",
            "57/57 [==============================] - 0s 5ms/step - loss: 1.0771 - accuracy: 0.5928 - val_loss: 0.6545 - val_accuracy: 0.7978\n",
            "Epoch 102/1000\n",
            "57/57 [==============================] - ETA: 0s - loss: 1.0776 - accuracy: 0.5899\n",
            "Epoch 102: saving model to model/keypoint_classifier\\keypoint_classifier.hdf5\n",
            "57/57 [==============================] - 0s 5ms/step - loss: 1.0776 - accuracy: 0.5899 - val_loss: 0.6530 - val_accuracy: 0.8060\n",
            "Epoch 103/1000\n",
            "43/57 [=====================>........] - ETA: 0s - loss: 1.0675 - accuracy: 0.5905\n",
            "Epoch 103: saving model to model/keypoint_classifier\\keypoint_classifier.hdf5\n",
            "57/57 [==============================] - 0s 5ms/step - loss: 1.0679 - accuracy: 0.5891 - val_loss: 0.6596 - val_accuracy: 0.7916\n",
            "Epoch 104/1000\n",
            "39/57 [===================>..........] - ETA: 0s - loss: 1.0865 - accuracy: 0.5827\n",
            "Epoch 104: saving model to model/keypoint_classifier\\keypoint_classifier.hdf5\n",
            "57/57 [==============================] - 0s 5ms/step - loss: 1.0912 - accuracy: 0.5826 - val_loss: 0.6520 - val_accuracy: 0.7994\n",
            "Epoch 105/1000\n",
            "40/57 [====================>.........] - ETA: 0s - loss: 1.0976 - accuracy: 0.5789\n",
            "Epoch 105: saving model to model/keypoint_classifier\\keypoint_classifier.hdf5\n",
            "57/57 [==============================] - 0s 4ms/step - loss: 1.0834 - accuracy: 0.5870 - val_loss: 0.6537 - val_accuracy: 0.7883\n",
            "Epoch 106/1000\n",
            "42/57 [=====================>........] - ETA: 0s - loss: 1.0552 - accuracy: 0.5977\n",
            "Epoch 106: saving model to model/keypoint_classifier\\keypoint_classifier.hdf5\n",
            "57/57 [==============================] - 0s 4ms/step - loss: 1.0612 - accuracy: 0.5929 - val_loss: 0.6548 - val_accuracy: 0.7937\n",
            "Epoch 107/1000\n",
            "43/57 [=====================>........] - ETA: 0s - loss: 1.0737 - accuracy: 0.5972\n",
            "Epoch 107: saving model to model/keypoint_classifier\\keypoint_classifier.hdf5\n",
            "57/57 [==============================] - 0s 6ms/step - loss: 1.0739 - accuracy: 0.5961 - val_loss: 0.6559 - val_accuracy: 0.7928\n",
            "Epoch 108/1000\n",
            "36/57 [=================>............] - ETA: 0s - loss: 1.0855 - accuracy: 0.5844\n",
            "Epoch 108: saving model to model/keypoint_classifier\\keypoint_classifier.hdf5\n",
            "57/57 [==============================] - 0s 5ms/step - loss: 1.0858 - accuracy: 0.5840 - val_loss: 0.6573 - val_accuracy: 0.8002\n",
            "Epoch 109/1000\n",
            "38/57 [===================>..........] - ETA: 0s - loss: 1.0577 - accuracy: 0.5929\n",
            "Epoch 109: saving model to model/keypoint_classifier\\keypoint_classifier.hdf5\n",
            "57/57 [==============================] - 0s 5ms/step - loss: 1.0549 - accuracy: 0.5943 - val_loss: 0.6471 - val_accuracy: 0.8023\n",
            "Epoch 110/1000\n",
            "40/57 [====================>.........] - ETA: 0s - loss: 1.0801 - accuracy: 0.5914\n",
            "Epoch 110: saving model to model/keypoint_classifier\\keypoint_classifier.hdf5\n",
            "57/57 [==============================] - 0s 4ms/step - loss: 1.0837 - accuracy: 0.5920 - val_loss: 0.6561 - val_accuracy: 0.7945\n",
            "Epoch 111/1000\n",
            "41/57 [====================>.........] - ETA: 0s - loss: 1.0593 - accuracy: 0.5957\n",
            "Epoch 111: saving model to model/keypoint_classifier\\keypoint_classifier.hdf5\n",
            "57/57 [==============================] - 0s 4ms/step - loss: 1.0595 - accuracy: 0.5957 - val_loss: 0.6491 - val_accuracy: 0.8072\n",
            "Epoch 112/1000\n",
            "40/57 [====================>.........] - ETA: 0s - loss: 1.0856 - accuracy: 0.5801\n",
            "Epoch 112: saving model to model/keypoint_classifier\\keypoint_classifier.hdf5\n",
            "57/57 [==============================] - 0s 4ms/step - loss: 1.0903 - accuracy: 0.5773 - val_loss: 0.6559 - val_accuracy: 0.8015\n",
            "Epoch 113/1000\n",
            "42/57 [=====================>........] - ETA: 0s - loss: 1.0921 - accuracy: 0.5844\n",
            "Epoch 113: saving model to model/keypoint_classifier\\keypoint_classifier.hdf5\n",
            "57/57 [==============================] - 0s 5ms/step - loss: 1.0788 - accuracy: 0.5876 - val_loss: 0.6537 - val_accuracy: 0.8052\n",
            "Epoch 114/1000\n",
            "44/57 [======================>.......] - ETA: 0s - loss: 1.0788 - accuracy: 0.5891\n",
            "Epoch 114: saving model to model/keypoint_classifier\\keypoint_classifier.hdf5\n",
            "57/57 [==============================] - 0s 4ms/step - loss: 1.0852 - accuracy: 0.5885 - val_loss: 0.6467 - val_accuracy: 0.7982\n",
            "Epoch 115/1000\n",
            "40/57 [====================>.........] - ETA: 0s - loss: 1.0623 - accuracy: 0.5973\n",
            "Epoch 115: saving model to model/keypoint_classifier\\keypoint_classifier.hdf5\n",
            "57/57 [==============================] - 0s 5ms/step - loss: 1.0655 - accuracy: 0.5902 - val_loss: 0.6475 - val_accuracy: 0.8040\n",
            "Epoch 116/1000\n",
            "38/57 [===================>..........] - ETA: 0s - loss: 1.0624 - accuracy: 0.5952\n",
            "Epoch 116: saving model to model/keypoint_classifier\\keypoint_classifier.hdf5\n",
            "57/57 [==============================] - 0s 5ms/step - loss: 1.0648 - accuracy: 0.5946 - val_loss: 0.6516 - val_accuracy: 0.8052\n",
            "Epoch 117/1000\n",
            "38/57 [===================>..........] - ETA: 0s - loss: 1.0698 - accuracy: 0.5944\n",
            "Epoch 117: saving model to model/keypoint_classifier\\keypoint_classifier.hdf5\n",
            "57/57 [==============================] - 0s 5ms/step - loss: 1.0752 - accuracy: 0.5889 - val_loss: 0.6513 - val_accuracy: 0.7978\n",
            "Epoch 118/1000\n",
            "47/57 [=======================>......] - ETA: 0s - loss: 1.0606 - accuracy: 0.5967\n",
            "Epoch 118: saving model to model/keypoint_classifier\\keypoint_classifier.hdf5\n",
            "57/57 [==============================] - 0s 4ms/step - loss: 1.0609 - accuracy: 0.5922 - val_loss: 0.6512 - val_accuracy: 0.7986\n",
            "Epoch 119/1000\n",
            "37/57 [==================>...........] - ETA: 0s - loss: 1.0563 - accuracy: 0.5914\n",
            "Epoch 119: saving model to model/keypoint_classifier\\keypoint_classifier.hdf5\n",
            "57/57 [==============================] - 0s 4ms/step - loss: 1.0621 - accuracy: 0.5863 - val_loss: 0.6529 - val_accuracy: 0.8015\n",
            "Epoch 120/1000\n",
            "40/57 [====================>.........] - ETA: 0s - loss: 1.0538 - accuracy: 0.5936\n",
            "Epoch 120: saving model to model/keypoint_classifier\\keypoint_classifier.hdf5\n",
            "57/57 [==============================] - 0s 4ms/step - loss: 1.0580 - accuracy: 0.5906 - val_loss: 0.6481 - val_accuracy: 0.7974\n",
            "Epoch 121/1000\n",
            "46/57 [=======================>......] - ETA: 0s - loss: 1.0642 - accuracy: 0.5912\n",
            "Epoch 121: saving model to model/keypoint_classifier\\keypoint_classifier.hdf5\n",
            "57/57 [==============================] - 0s 5ms/step - loss: 1.0585 - accuracy: 0.5941 - val_loss: 0.6450 - val_accuracy: 0.7998\n",
            "Epoch 122/1000\n",
            "56/57 [============================>.] - ETA: 0s - loss: 1.0690 - accuracy: 0.5931\n",
            "Epoch 122: saving model to model/keypoint_classifier\\keypoint_classifier.hdf5\n",
            "57/57 [==============================] - 0s 5ms/step - loss: 1.0685 - accuracy: 0.5937 - val_loss: 0.6454 - val_accuracy: 0.8068\n",
            "Epoch 123/1000\n",
            "42/57 [=====================>........] - ETA: 0s - loss: 1.0697 - accuracy: 0.5830\n",
            "Epoch 123: saving model to model/keypoint_classifier\\keypoint_classifier.hdf5\n",
            "57/57 [==============================] - 0s 4ms/step - loss: 1.0522 - accuracy: 0.5867 - val_loss: 0.6473 - val_accuracy: 0.7937\n",
            "Epoch 124/1000\n",
            "55/57 [===========================>..] - ETA: 0s - loss: 1.0649 - accuracy: 0.5940\n",
            "Epoch 124: saving model to model/keypoint_classifier\\keypoint_classifier.hdf5\n",
            "57/57 [==============================] - 0s 6ms/step - loss: 1.0643 - accuracy: 0.5943 - val_loss: 0.6470 - val_accuracy: 0.7957\n",
            "Epoch 125/1000\n",
            "45/57 [======================>.......] - ETA: 0s - loss: 1.0674 - accuracy: 0.5960\n",
            "Epoch 125: saving model to model/keypoint_classifier\\keypoint_classifier.hdf5\n",
            "57/57 [==============================] - 0s 5ms/step - loss: 1.0735 - accuracy: 0.5909 - val_loss: 0.6507 - val_accuracy: 0.8060\n",
            "Epoch 126/1000\n",
            "38/57 [===================>..........] - ETA: 0s - loss: 1.0607 - accuracy: 0.5903\n",
            "Epoch 126: saving model to model/keypoint_classifier\\keypoint_classifier.hdf5\n",
            "57/57 [==============================] - 0s 4ms/step - loss: 1.0668 - accuracy: 0.5869 - val_loss: 0.6458 - val_accuracy: 0.8019\n",
            "Epoch 127/1000\n",
            "45/57 [======================>.......] - ETA: 0s - loss: 1.0468 - accuracy: 0.5960\n",
            "Epoch 127: saving model to model/keypoint_classifier\\keypoint_classifier.hdf5\n",
            "57/57 [==============================] - 0s 5ms/step - loss: 1.0474 - accuracy: 0.5937 - val_loss: 0.6466 - val_accuracy: 0.7986\n",
            "Epoch 128/1000\n",
            "56/57 [============================>.] - ETA: 0s - loss: 1.0610 - accuracy: 0.5957\n",
            "Epoch 128: saving model to model/keypoint_classifier\\keypoint_classifier.hdf5\n",
            "57/57 [==============================] - 0s 4ms/step - loss: 1.0614 - accuracy: 0.5950 - val_loss: 0.6531 - val_accuracy: 0.8040\n",
            "Epoch 129/1000\n",
            "49/57 [========================>.....] - ETA: 0s - loss: 1.0641 - accuracy: 0.5931\n",
            "Epoch 129: saving model to model/keypoint_classifier\\keypoint_classifier.hdf5\n",
            "57/57 [==============================] - 0s 4ms/step - loss: 1.0623 - accuracy: 0.5936 - val_loss: 0.6486 - val_accuracy: 0.7945\n",
            "Epoch 130/1000\n",
            "39/57 [===================>..........] - ETA: 0s - loss: 1.0620 - accuracy: 0.5909\n",
            "Epoch 130: saving model to model/keypoint_classifier\\keypoint_classifier.hdf5\n",
            "57/57 [==============================] - 0s 5ms/step - loss: 1.0646 - accuracy: 0.5931 - val_loss: 0.6447 - val_accuracy: 0.7941\n",
            "Epoch 131/1000\n",
            "57/57 [==============================] - ETA: 0s - loss: 1.0449 - accuracy: 0.6024\n",
            "Epoch 131: saving model to model/keypoint_classifier\\keypoint_classifier.hdf5\n",
            "57/57 [==============================] - 0s 5ms/step - loss: 1.0449 - accuracy: 0.6024 - val_loss: 0.6399 - val_accuracy: 0.7986\n",
            "Epoch 132/1000\n",
            "44/57 [======================>.......] - ETA: 0s - loss: 1.0557 - accuracy: 0.5966\n",
            "Epoch 132: saving model to model/keypoint_classifier\\keypoint_classifier.hdf5\n",
            "57/57 [==============================] - 0s 5ms/step - loss: 1.0545 - accuracy: 0.5995 - val_loss: 0.6460 - val_accuracy: 0.8011\n",
            "Epoch 133/1000\n",
            "42/57 [=====================>........] - ETA: 0s - loss: 1.0669 - accuracy: 0.5869\n",
            "Epoch 133: saving model to model/keypoint_classifier\\keypoint_classifier.hdf5\n",
            "57/57 [==============================] - 0s 4ms/step - loss: 1.0634 - accuracy: 0.5895 - val_loss: 0.6452 - val_accuracy: 0.8019\n",
            "Epoch 134/1000\n",
            "43/57 [=====================>........] - ETA: 0s - loss: 1.0522 - accuracy: 0.5936\n",
            "Epoch 134: saving model to model/keypoint_classifier\\keypoint_classifier.hdf5\n",
            "57/57 [==============================] - 0s 4ms/step - loss: 1.0553 - accuracy: 0.5948 - val_loss: 0.6399 - val_accuracy: 0.8040\n",
            "Epoch 135/1000\n",
            "43/57 [=====================>........] - ETA: 0s - loss: 1.0694 - accuracy: 0.5936\n",
            "Epoch 135: saving model to model/keypoint_classifier\\keypoint_classifier.hdf5\n",
            "57/57 [==============================] - 0s 4ms/step - loss: 1.0648 - accuracy: 0.5947 - val_loss: 0.6571 - val_accuracy: 0.7945\n",
            "Epoch 136/1000\n",
            "40/57 [====================>.........] - ETA: 0s - loss: 1.0426 - accuracy: 0.6000\n",
            "Epoch 136: saving model to model/keypoint_classifier\\keypoint_classifier.hdf5\n",
            "57/57 [==============================] - 0s 5ms/step - loss: 1.0442 - accuracy: 0.6007 - val_loss: 0.6538 - val_accuracy: 0.8015\n",
            "Epoch 137/1000\n",
            "46/57 [=======================>......] - ETA: 0s - loss: 1.0690 - accuracy: 0.5915\n",
            "Epoch 137: saving model to model/keypoint_classifier\\keypoint_classifier.hdf5\n",
            "57/57 [==============================] - 0s 4ms/step - loss: 1.0596 - accuracy: 0.5974 - val_loss: 0.6396 - val_accuracy: 0.7998\n",
            "Epoch 138/1000\n",
            "40/57 [====================>.........] - ETA: 0s - loss: 1.0608 - accuracy: 0.5957\n",
            "Epoch 138: saving model to model/keypoint_classifier\\keypoint_classifier.hdf5\n",
            "57/57 [==============================] - 0s 4ms/step - loss: 1.0572 - accuracy: 0.5970 - val_loss: 0.6473 - val_accuracy: 0.8007\n",
            "Epoch 139/1000\n",
            "50/57 [=========================>....] - ETA: 0s - loss: 1.0594 - accuracy: 0.5934\n",
            "Epoch 139: saving model to model/keypoint_classifier\\keypoint_classifier.hdf5\n",
            "57/57 [==============================] - 0s 5ms/step - loss: 1.0517 - accuracy: 0.5959 - val_loss: 0.6381 - val_accuracy: 0.8072\n",
            "Epoch 140/1000\n",
            "38/57 [===================>..........] - ETA: 0s - loss: 1.0544 - accuracy: 0.5972\n",
            "Epoch 140: saving model to model/keypoint_classifier\\keypoint_classifier.hdf5\n",
            "57/57 [==============================] - 0s 5ms/step - loss: 1.0538 - accuracy: 0.5957 - val_loss: 0.6443 - val_accuracy: 0.7932\n",
            "Epoch 141/1000\n",
            "42/57 [=====================>........] - ETA: 0s - loss: 1.0459 - accuracy: 0.6008\n",
            "Epoch 141: saving model to model/keypoint_classifier\\keypoint_classifier.hdf5\n",
            "57/57 [==============================] - 0s 5ms/step - loss: 1.0541 - accuracy: 0.5973 - val_loss: 0.6401 - val_accuracy: 0.8077\n",
            "Epoch 142/1000\n",
            "49/57 [========================>.....] - ETA: 0s - loss: 1.0496 - accuracy: 0.5971\n",
            "Epoch 142: saving model to model/keypoint_classifier\\keypoint_classifier.hdf5\n",
            "57/57 [==============================] - 0s 4ms/step - loss: 1.0466 - accuracy: 0.5965 - val_loss: 0.6445 - val_accuracy: 0.8064\n",
            "Epoch 143/1000\n",
            "45/57 [======================>.......] - ETA: 0s - loss: 1.0643 - accuracy: 0.5944\n",
            "Epoch 143: saving model to model/keypoint_classifier\\keypoint_classifier.hdf5\n",
            "57/57 [==============================] - 0s 4ms/step - loss: 1.0609 - accuracy: 0.5932 - val_loss: 0.6512 - val_accuracy: 0.7941\n",
            "Epoch 144/1000\n",
            "43/57 [=====================>........] - ETA: 0s - loss: 1.0663 - accuracy: 0.5905\n",
            "Epoch 144: saving model to model/keypoint_classifier\\keypoint_classifier.hdf5\n",
            "57/57 [==============================] - 0s 4ms/step - loss: 1.0627 - accuracy: 0.5911 - val_loss: 0.6458 - val_accuracy: 0.8089\n",
            "Epoch 145/1000\n",
            "40/57 [====================>.........] - ETA: 0s - loss: 1.0373 - accuracy: 0.6080\n",
            "Epoch 145: saving model to model/keypoint_classifier\\keypoint_classifier.hdf5\n",
            "57/57 [==============================] - 0s 6ms/step - loss: 1.0436 - accuracy: 0.6027 - val_loss: 0.6399 - val_accuracy: 0.8019\n",
            "Epoch 146/1000\n",
            "42/57 [=====================>........] - ETA: 0s - loss: 1.0756 - accuracy: 0.5924\n",
            "Epoch 146: saving model to model/keypoint_classifier\\keypoint_classifier.hdf5\n",
            "57/57 [==============================] - 0s 4ms/step - loss: 1.0699 - accuracy: 0.5928 - val_loss: 0.6503 - val_accuracy: 0.8007\n",
            "Epoch 147/1000\n",
            "47/57 [=======================>......] - ETA: 0s - loss: 1.0656 - accuracy: 0.5914\n",
            "Epoch 147: saving model to model/keypoint_classifier\\keypoint_classifier.hdf5\n",
            "57/57 [==============================] - 0s 4ms/step - loss: 1.0599 - accuracy: 0.5915 - val_loss: 0.6506 - val_accuracy: 0.8052\n",
            "Epoch 148/1000\n",
            "40/57 [====================>.........] - ETA: 0s - loss: 1.0463 - accuracy: 0.6008\n",
            "Epoch 148: saving model to model/keypoint_classifier\\keypoint_classifier.hdf5\n",
            "57/57 [==============================] - 0s 5ms/step - loss: 1.0592 - accuracy: 0.5951 - val_loss: 0.6445 - val_accuracy: 0.8114\n",
            "Epoch 149/1000\n",
            "46/57 [=======================>......] - ETA: 0s - loss: 1.0490 - accuracy: 0.5982\n",
            "Epoch 149: saving model to model/keypoint_classifier\\keypoint_classifier.hdf5\n",
            "57/57 [==============================] - 0s 4ms/step - loss: 1.0484 - accuracy: 0.5995 - val_loss: 0.6437 - val_accuracy: 0.8143\n",
            "Epoch 150/1000\n",
            "42/57 [=====================>........] - ETA: 0s - loss: 1.0660 - accuracy: 0.5924\n",
            "Epoch 150: saving model to model/keypoint_classifier\\keypoint_classifier.hdf5\n",
            "57/57 [==============================] - 0s 4ms/step - loss: 1.0651 - accuracy: 0.5936 - val_loss: 0.6568 - val_accuracy: 0.7974\n",
            "Epoch 151/1000\n",
            "46/57 [=======================>......] - ETA: 0s - loss: 1.0370 - accuracy: 0.6021\n",
            "Epoch 151: saving model to model/keypoint_classifier\\keypoint_classifier.hdf5\n",
            "57/57 [==============================] - 0s 4ms/step - loss: 1.0389 - accuracy: 0.5988 - val_loss: 0.6495 - val_accuracy: 0.8011\n",
            "Epoch 152/1000\n",
            "43/57 [=====================>........] - ETA: 0s - loss: 1.0640 - accuracy: 0.5905\n",
            "Epoch 152: saving model to model/keypoint_classifier\\keypoint_classifier.hdf5\n",
            "57/57 [==============================] - 0s 4ms/step - loss: 1.0625 - accuracy: 0.5920 - val_loss: 0.6489 - val_accuracy: 0.8023\n",
            "Epoch 153/1000\n",
            "51/57 [=========================>....] - ETA: 0s - loss: 1.0536 - accuracy: 0.5959\n",
            "Epoch 153: saving model to model/keypoint_classifier\\keypoint_classifier.hdf5\n",
            "57/57 [==============================] - 0s 6ms/step - loss: 1.0541 - accuracy: 0.5973 - val_loss: 0.6445 - val_accuracy: 0.8130\n",
            "Epoch 154/1000\n",
            "37/57 [==================>...........] - ETA: 0s - loss: 1.0462 - accuracy: 0.6047\n",
            "Epoch 154: saving model to model/keypoint_classifier\\keypoint_classifier.hdf5\n",
            "57/57 [==============================] - 0s 5ms/step - loss: 1.0514 - accuracy: 0.5985 - val_loss: 0.6472 - val_accuracy: 0.7994\n",
            "Epoch 155/1000\n",
            "43/57 [=====================>........] - ETA: 0s - loss: 1.0459 - accuracy: 0.5997\n",
            "Epoch 155: saving model to model/keypoint_classifier\\keypoint_classifier.hdf5\n",
            "57/57 [==============================] - 0s 4ms/step - loss: 1.0475 - accuracy: 0.6006 - val_loss: 0.6509 - val_accuracy: 0.8089\n",
            "Epoch 156/1000\n",
            "42/57 [=====================>........] - ETA: 0s - loss: 1.0304 - accuracy: 0.6019\n",
            "Epoch 156: saving model to model/keypoint_classifier\\keypoint_classifier.hdf5\n",
            "57/57 [==============================] - 0s 5ms/step - loss: 1.0386 - accuracy: 0.6002 - val_loss: 0.6448 - val_accuracy: 0.8052\n",
            "Epoch 157/1000\n",
            "38/57 [===================>..........] - ETA: 0s - loss: 1.0458 - accuracy: 0.5944\n",
            "Epoch 157: saving model to model/keypoint_classifier\\keypoint_classifier.hdf5\n",
            "57/57 [==============================] - 0s 4ms/step - loss: 1.0383 - accuracy: 0.6023 - val_loss: 0.6430 - val_accuracy: 0.7945\n",
            "Epoch 158/1000\n",
            "40/57 [====================>.........] - ETA: 0s - loss: 1.0468 - accuracy: 0.6092\n",
            "Epoch 158: saving model to model/keypoint_classifier\\keypoint_classifier.hdf5\n",
            "57/57 [==============================] - 0s 4ms/step - loss: 1.0428 - accuracy: 0.6082 - val_loss: 0.6466 - val_accuracy: 0.7965\n",
            "Epoch 159/1000\n",
            "43/57 [=====================>........] - ETA: 0s - loss: 1.0584 - accuracy: 0.5896\n",
            "Epoch 159: saving model to model/keypoint_classifier\\keypoint_classifier.hdf5\n",
            "57/57 [==============================] - 0s 4ms/step - loss: 1.0540 - accuracy: 0.5943 - val_loss: 0.6477 - val_accuracy: 0.7957\n",
            "Epoch 159: early stopping\n"
          ]
        },
        {
          "data": {
            "text/plain": [
              "<keras.src.callbacks.History at 0x1dd3c740220>"
            ]
          },
          "execution_count": 55,
          "metadata": {},
          "output_type": "execute_result"
        }
      ],
      "source": [
        "model.fit(\n",
        "    X_train,\n",
        "    y_train,\n",
        "    epochs=1000,\n",
        "    batch_size=128,\n",
        "    validation_data=(X_test, y_test),\n",
        "    callbacks=[cp_callback, es_callback]\n",
        ")"
      ]
    },
    {
      "cell_type": "code",
      "execution_count": 56,
      "metadata": {
        "colab": {
          "base_uri": "https://localhost:8080/"
        },
        "id": "pxvb2Y299hE3",
        "outputId": "59eb3185-2e37-4b9e-bc9d-ab1b8ac29b7f"
      },
      "outputs": [
        {
          "name": "stdout",
          "output_type": "stream",
          "text": [
            " 1/19 [>.............................] - ETA: 0s - loss: 0.6912 - accuracy: 0.7578"
          ]
        },
        {
          "name": "stdout",
          "output_type": "stream",
          "text": [
            "19/19 [==============================] - 0s 3ms/step - loss: 0.6477 - accuracy: 0.7957\n"
          ]
        }
      ],
      "source": [
        "# Model evaluation\n",
        "val_loss, val_acc = model.evaluate(X_test, y_test, batch_size=128)"
      ]
    },
    {
      "cell_type": "code",
      "execution_count": 57,
      "metadata": {
        "id": "RBkmDeUW9hE4"
      },
      "outputs": [],
      "source": [
        "# Loading the saved model\n",
        "model = tf.keras.models.load_model(model_save_path)"
      ]
    },
    {
      "cell_type": "code",
      "execution_count": 58,
      "metadata": {
        "colab": {
          "base_uri": "https://localhost:8080/"
        },
        "id": "tFz9Tb0I9hE4",
        "outputId": "1c3b3528-54ae-4ee2-ab04-77429211cbef"
      },
      "outputs": [
        {
          "name": "stdout",
          "output_type": "stream",
          "text": [
            "1/1 [==============================] - 0s 92ms/step\n",
            "[5.4013655e-02 8.5178073e-03 1.3492085e-03 5.7535549e-04 2.2390246e-04\n",
            " 5.1043797e-01 8.6630978e-05 1.5430234e-02 4.0936160e-01 3.6818847e-06]\n",
            "5\n"
          ]
        }
      ],
      "source": [
        "# Inference test\n",
        "predict_result = model.predict(np.array([X_test[0]]))\n",
        "print(np.squeeze(predict_result))\n",
        "print(np.argmax(np.squeeze(predict_result)))"
      ]
    },
    {
      "cell_type": "markdown",
      "metadata": {
        "id": "S3U4yNWx9hE4"
      },
      "source": [
        "# Confusion matrix"
      ]
    },
    {
      "cell_type": "code",
      "execution_count": 59,
      "metadata": {
        "colab": {
          "base_uri": "https://localhost:8080/",
          "height": 582
        },
        "id": "AP1V6SCk9hE5",
        "outputId": "08e41a80-7a4a-4619-8125-ecc371368d19"
      },
      "outputs": [
        {
          "name": "stdout",
          "output_type": "stream",
          "text": [
            "76/76 [==============================] - 0s 2ms/step\n"
          ]
        },
        {
          "data": {
            "image/png": "[encoded data removed]",
            "text/plain": [
              "<Figure size 700x600 with 2 Axes>"
            ]
          },
          "metadata": {},
          "output_type": "display_data"
        },
        {
          "name": "stdout",
          "output_type": "stream",
          "text": [
            "Classification Report\n",
            "              precision    recall  f1-score   support\n",
            "\n",
            "           0       0.72      0.86      0.78       235\n",
            "           1       0.97      0.69      0.81       169\n",
            "           2       0.68      0.84      0.75       133\n",
            "           3       0.86      0.93      0.89       263\n",
            "           4       0.63      0.72      0.67       239\n",
            "           5       0.80      0.77      0.78       261\n",
            "           6       0.92      0.99      0.95       284\n",
            "           7       0.75      0.59      0.66       355\n",
            "           8       0.81      0.78      0.79       299\n",
            "           9       0.90      0.87      0.88       190\n",
            "\n",
            "    accuracy                           0.80      2428\n",
            "   macro avg       0.80      0.80      0.80      2428\n",
            "weighted avg       0.80      0.80      0.79      2428\n",
            "\n"
          ]
        }
      ],
      "source": [
        "import pandas as pd\n",
        "import seaborn as sns\n",
        "import matplotlib.pyplot as plt\n",
        "from sklearn.metrics import confusion_matrix, classification_report\n",
        "\n",
        "def print_confusion_matrix(y_true, y_pred, report=True):\n",
        "    labels = sorted(list(set(y_true)))\n",
        "    cmx_data = confusion_matrix(y_true, y_pred, labels=labels)\n",
        "    \n",
        "    df_cmx = pd.DataFrame(cmx_data, index=labels, columns=labels)\n",
        " \n",
        "    fig, ax = plt.subplots(figsize=(7, 6))\n",
        "    sns.heatmap(df_cmx, annot=True, fmt='g' ,square=False)\n",
        "    ax.set_ylim(len(set(y_true)), 0)\n",
        "    plt.show()\n",
        "    \n",
        "    if report:\n",
        "        print('Classification Report')\n",
        "        print(classification_report(y_test, y_pred))\n",
        "\n",
        "Y_pred = model.predict(X_test)\n",
        "y_pred = np.argmax(Y_pred, axis=1)\n",
        "\n",
        "print_confusion_matrix(y_test, y_pred)"
      ]
    },
    {
      "cell_type": "markdown",
      "metadata": {
        "id": "FNP6aqzc9hE5"
      },
      "source": [
        "# Convert to model for Tensorflow-Lite"
      ]
    },
    {
      "cell_type": "code",
      "execution_count": 60,
      "metadata": {
        "id": "ODjnYyld9hE6"
      },
      "outputs": [
        {
          "name": "stderr",
          "output_type": "stream",
          "text": [
            "c:\\Users\\Carlos Miguel\\AppData\\Local\\Programs\\Python\\Python310\\lib\\site-packages\\keras\\src\\engine\\training.py:3000: UserWarning: You are saving your model as an HDF5 file via `model.save()`. This file format is considered legacy. We recommend using instead the native Keras format, e.g. `model.save('my_model.keras')`.\n",
            "  saving_api.save_model(\n"
          ]
        }
      ],
      "source": [
        "# Save as a model dedicated to inference\n",
        "model.save(model_save_path, include_optimizer=False)"
      ]
    },
    {
      "cell_type": "code",
      "execution_count": 61,
      "metadata": {
        "colab": {
          "base_uri": "https://localhost:8080/"
        },
        "id": "zRfuK8Y59hE6",
        "outputId": "a4ca585c-b5d5-4244-8291-8674063209bb"
      },
      "outputs": [
        {
          "name": "stdout",
          "output_type": "stream",
          "text": [
            "INFO:tensorflow:Assets written to: C:\\Users\\CARLOS~1\\AppData\\Local\\Temp\\tmpr8dzwidq\\assets\n"
          ]
        },
        {
          "name": "stderr",
          "output_type": "stream",
          "text": [
            "INFO:tensorflow:Assets written to: C:\\Users\\CARLOS~1\\AppData\\Local\\Temp\\tmpr8dzwidq\\assets\n"
          ]
        },
        {
          "data": {
            "text/plain": [
              "6836"
            ]
          },
          "execution_count": 61,
          "metadata": {},
          "output_type": "execute_result"
        }
      ],
      "source": [
        "# Transform model (quantization)\n",
        "\n",
        "converter = tf.lite.TFLiteConverter.from_keras_model(model)\n",
        "converter.optimizations = [tf.lite.Optimize.DEFAULT]\n",
        "tflite_quantized_model = converter.convert()\n",
        "\n",
        "open(tflite_save_path, 'wb').write(tflite_quantized_model)"
      ]
    },
    {
      "cell_type": "markdown",
      "metadata": {
        "id": "CHBPBXdx9hE6"
      },
      "source": [
        "# Inference test"
      ]
    },
    {
      "cell_type": "code",
      "execution_count": 62,
      "metadata": {
        "id": "mGAzLocO9hE7"
      },
      "outputs": [],
      "source": [
        "interpreter = tf.lite.Interpreter(model_path=tflite_save_path)\n",
        "interpreter.allocate_tensors()"
      ]
    },
    {
      "cell_type": "code",
      "execution_count": 63,
      "metadata": {
        "id": "oQuDK8YS9hE7"
      },
      "outputs": [],
      "source": [
        "# Get I / O tensor\n",
        "input_details = interpreter.get_input_details()\n",
        "output_details = interpreter.get_output_details()"
      ]
    },
    {
      "cell_type": "code",
      "execution_count": 64,
      "metadata": {
        "id": "2_ixAf_l9hE7"
      },
      "outputs": [],
      "source": [
        "interpreter.set_tensor(input_details[0]['index'], np.array([X_test[0]]))"
      ]
    },
    {
      "cell_type": "code",
      "execution_count": 65,
      "metadata": {
        "colab": {
          "base_uri": "https://localhost:8080/"
        },
        "id": "s4FoAnuc9hE7",
        "outputId": "91f18257-8d8b-4ef3-c558-e9b5f94fabbf",
        "scrolled": true
      },
      "outputs": [
        {
          "name": "stdout",
          "output_type": "stream",
          "text": [
            "CPU times: total: 0 ns\n",
            "Wall time: 0 ns\n"
          ]
        }
      ],
      "source": [
        "%%time\n",
        "# Inference implementation\n",
        "interpreter.invoke()\n",
        "tflite_results = interpreter.get_tensor(output_details[0]['index'])"
      ]
    },
    {
      "cell_type": "code",
      "execution_count": 66,
      "metadata": {
        "colab": {
          "base_uri": "https://localhost:8080/"
        },
        "id": "vONjp19J9hE8",
        "outputId": "77205e24-fd00-42c4-f7b6-e06e527c2cba"
      },
      "outputs": [
        {
          "name": "stdout",
          "output_type": "stream",
          "text": [
            "[5.4013625e-02 8.5178157e-03 1.3492125e-03 5.7535403e-04 2.2390243e-04\n",
            " 5.1043797e-01 8.6631233e-05 1.5430239e-02 4.0936160e-01 3.6818778e-06]\n",
            "5\n"
          ]
        }
      ],
      "source": [
        "print(np.squeeze(tflite_results))\n",
        "print(np.argmax(np.squeeze(tflite_results)))"
      ]
    }
  ],
  "metadata": {
    "accelerator": "GPU",
    "colab": {
      "collapsed_sections": [],
      "name": "keypoint_classification_EN.ipynb",
      "provenance": [],
      "toc_visible": true
    },
    "kernelspec": {
      "display_name": "Python 3",
      "language": "python",
      "name": "python3"
    },
    "language_info": {
      "codemirror_mode": {
        "name": "ipython",
        "version": 3
      },
      "file_extension": ".py",
      "mimetype": "text/x-python",
      "name": "python",
      "nbconvert_exporter": "python",
      "pygments_lexer": "ipython3",
      "version": "3.10.5"
    }
  },
  "nbformat": 4,
  "nbformat_minor": 0
}
